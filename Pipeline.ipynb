{
 "cells": [
  {
   "cell_type": "markdown",
   "id": "ec181f66-6cad-46ed-aecc-3664d56af7e0",
   "metadata": {},
   "source": [
    "# Metadata\n",
    "\n",
    "```yaml\n",
    "course:   DS 5001 \n",
    "topic:    Pipeline\n",
    "author:   Andrew Chaphiv (acgq2@virginia.edu)\n",
    "date:    SPR2023\n",
    "```"
   ]
  },
  {
   "cell_type": "markdown",
   "id": "cbc71356-5675-4429-a121-295e2679251e",
   "metadata": {},
   "source": [
    "# Importing Modules "
   ]
  },
  {
   "cell_type": "code",
   "execution_count": null,
   "id": "e69c148a-541a-42a2-bff8-f522de92b7cd",
   "metadata": {},
   "outputs": [],
   "source": [
    "import pandas as pd \n",
    "import csv\n",
    "import re\n",
    "import urllib\n",
    "from time import sleep"
   ]
  },
  {
   "cell_type": "markdown",
   "id": "a30937f6-93f0-4c9b-8684-e413f595d68c",
   "metadata": {},
   "source": [
    "# Using API"
   ]
  },
  {
   "cell_type": "code",
   "execution_count": 168,
   "id": "944506cf-87cc-4c3c-abda-96ee42e52454",
   "metadata": {},
   "outputs": [],
   "source": [
    "query = 'cancer+treatment'\n",
    "\n",
    "# common settings between esearch and efetch\n",
    "base_url = 'http://eutils.ncbi.nlm.nih.gov/entrez/eutils/'\n",
    "db = 'db=pubmed'\n",
    "\n",
    "# esearch specific settings\n",
    "search_eutil = 'esearch.fcgi?'\n",
    "search_term = '&term=' + query\n",
    "search_usehistory = '&usehistory=y'\n",
    "search_rettype = '&rettype=json'\n",
    "search_mindate, search_maxdate = '&mindate=2005','&maxdate=2005'"
   ]
  },
  {
   "cell_type": "code",
   "execution_count": 169,
   "id": "b2aaf871-8e5b-4ea0-ad4c-36da57021ca0",
   "metadata": {},
   "outputs": [
    {
     "name": "stdout",
     "output_type": "stream",
     "text": [
      "http://eutils.ncbi.nlm.nih.gov/entrez/eutils/esearch.fcgi?db=pubmed&term=cancer+treatment&usehistory=y&rettype=json&mindate=2005&maxdate=2005\n"
     ]
    }
   ],
   "source": [
    "search_url = base_url+search_eutil+db+search_term+search_usehistory+search_rettype+search_mindate+search_maxdate\n",
    "print(search_url)"
   ]
  },
  {
   "cell_type": "code",
   "execution_count": 173,
   "id": "aa70ffb9-44c9-4af9-99bb-cfd17e724c8e",
   "metadata": {},
   "outputs": [
    {
     "data": {
      "text/plain": [
       "'<?xml version=\"1.0\" encoding=\"UTF-8\" ?>\\n<!DOCTYPE eSearchResult PUBLIC \"-//NLM//DTD esearch 20060628//EN\" \"https://eutils.ncbi.nlm.nih.gov/eutils/dtd/20060628/esearch.dtd\">\\n<eSearchResult><Count>57057</Count><RetMax>20</RetMax><RetStart>0</RetStart><QueryKey>1</QueryKey><WebEnv>MCID_6413a2172764c94de824c8e8</WebEnv><IdList>\\n<Id>16385691</Id>\\n<Id>16385690</Id>\\n<Id>16385665</Id>\\n<Id>16385661</Id>\\n<Id>16385656</Id>\\n<Id>16385650</Id>\\n<Id>16385648</Id>\\n<Id>16385625</Id>\\n<Id>16385613</Id>\\n<Id>16385577</Id>\\n<Id>16385575</Id>\\n<Id>16385573</Id>\\n<Id>16385570</Id>\\n<Id>16385569</Id>\\n<Id>16385568</Id>\\n<Id>16385565</Id>\\n<Id>16385556</Id>\\n<Id>16385476</Id>\\n<Id>16385440</Id>\\n<Id>16385437</Id>\\n</IdList><TranslationSet><Translation>     <From>cancer</From>     <To>\"cancer\\'s\"[All Fields] OR \"cancerated\"[All Fields] OR \"canceration\"[All Fields] OR \"cancerization\"[All Fields] OR \"cancerized\"[All Fields] OR \"cancerous\"[All Fields] OR \"neoplasms\"[MeSH Terms] OR \"neoplasms\"[All Fields] OR \"cancer\"[All Fields] OR \"cancers\"[All Fields]</To>    </Translation><Translation>     <From>treatment</From>     <To>\"therapeutics\"[MeSH Terms] OR \"therapeutics\"[All Fields] OR \"treatments\"[All Fields] OR \"therapy\"[Subheading] OR \"therapy\"[All Fields] OR \"treatment\"[All Fields] OR \"treatment\\'s\"[All Fields]</To>    </Translation></TranslationSet><QueryTranslation>(\"cancer s\"[All Fields] OR \"cancerated\"[All Fields] OR \"canceration\"[All Fields] OR \"cancerization\"[All Fields] OR \"cancerized\"[All Fields] OR \"cancerous\"[All Fields] OR \"neoplasms\"[MeSH Terms] OR \"neoplasms\"[All Fields] OR \"cancer\"[All Fields] OR \"cancers\"[All Fields]) AND (\"therapeutics\"[MeSH Terms] OR \"therapeutics\"[All Fields] OR \"treatments\"[All Fields] OR \"therapy\"[MeSH Subheading] OR \"therapy\"[All Fields] OR \"treatment\"[All Fields] OR \"treatment s\"[All Fields]) AND 2005/01/01:2005/12/31[Date - Entry]</QueryTranslation></eSearchResult>\\n'"
      ]
     },
     "execution_count": 173,
     "metadata": {},
     "output_type": "execute_result"
    }
   ],
   "source": [
    "f = urllib.request.urlopen(search_url)\n",
    "search_data = f.read().decode('utf-8')\n",
    "search_data"
   ]
  },
  {
   "cell_type": "code",
   "execution_count": 174,
   "id": "d4e94eaa-a6da-46be-8b00-a1f8d4860855",
   "metadata": {},
   "outputs": [
    {
     "name": "stdout",
     "output_type": "stream",
     "text": [
      "57057\n"
     ]
    }
   ],
   "source": [
    "total_abstract_count = int(re.findall(\"<Count>(\\d+?)</Count>\",search_data)[0])\n",
    "print(total_abstract_count)"
   ]
  },
  {
   "cell_type": "code",
   "execution_count": 175,
   "id": "fd135c2c-cc7e-4516-8411-76abdb223b6d",
   "metadata": {},
   "outputs": [],
   "source": [
    "fetch_webenv = \"&WebEnv=\" + re.findall (\"<WebEnv>(\\S+)<\\/WebEnv>\", search_data)[0]\n",
    "fetch_querykey = \"&query_key=\" + re.findall(\"<QueryKey>(\\d+?)</QueryKey>\",search_data)[0]"
   ]
  },
  {
   "cell_type": "code",
   "execution_count": 176,
   "id": "0dc54b52-5acc-4a99-961a-1d9a6ec0952c",
   "metadata": {},
   "outputs": [],
   "source": [
    "fetch_eutil = 'efetch.fcgi?'\n",
    "retmax = 500\n",
    "retstart = 0\n",
    "fetch_retstart = \"&retstart=\" + str(retstart)\n",
    "fetch_retmax = \"&retmax=\" + str(retmax)\n",
    "fetch_retmode = \"&retmode=text\"\n",
    "fetch_rettype = \"&rettype=abstract\""
   ]
  },
  {
   "cell_type": "code",
   "execution_count": 177,
   "id": "20fd6dbe-daef-46ce-b06e-8e42db28af3e",
   "metadata": {},
   "outputs": [],
   "source": [
    "fetch_url = base_url+fetch_eutil+db+fetch_querykey+fetch_webenv+fetch_retstart+fetch_retmax+fetch_retmode+fetch_rettype\n",
    "f = urllib.request.urlopen (fetch_url)\n",
    "fetch_data = f.read().decode('utf-8')\n",
    "# split the data into individual abstracts\n",
    "abstracts = fetch_data.split(\"\\n\\n\\n\")"
   ]
  },
  {
   "cell_type": "code",
   "execution_count": 178,
   "id": "a555947a-c57c-4416-90b4-4c4a2eb173c2",
   "metadata": {},
   "outputs": [
    {
     "data": {
      "text/plain": [
       "'http://eutils.ncbi.nlm.nih.gov/entrez/eutils/efetch.fcgi?db=pubmed&query_key=1&WebEnv=MCID_6413a2172764c94de824c8e8&retstart=0&retmax=500&retmode=text&rettype=abstract'"
      ]
     },
     "execution_count": 178,
     "metadata": {},
     "output_type": "execute_result"
    }
   ],
   "source": [
    "fetch_url"
   ]
  },
  {
   "cell_type": "markdown",
   "id": "c2418716-e331-4ed6-94e8-15168f95abf4",
   "metadata": {},
   "source": [
    "# Batch Grabbing the Abstracts"
   ]
  },
  {
   "cell_type": "code",
   "execution_count": 10,
   "id": "75cba27a-b081-4c91-b59d-19a25bc822bd",
   "metadata": {},
   "outputs": [],
   "source": [
    "years = ['1995',\n",
    "         '2000',\n",
    "         '2005',\n",
    "         '2010',\n",
    "         '2015',\n",
    "         '2020',\n",
    "         '2023']"
   ]
  },
  {
   "cell_type": "code",
   "execution_count": 180,
   "id": "619b20b7-ea46-4bc4-acb5-99b291546026",
   "metadata": {},
   "outputs": [
    {
     "name": "stdout",
     "output_type": "stream",
     "text": [
      "this is the esearch command:\n",
      "http://eutils.ncbi.nlm.nih.gov/entrez/eutils/esearch.fcgi?db=pubmed&term=cancer+treatment&usehistory=y&rettype=json&mindate=1995&maxdate=1995\n",
      "\n",
      "a total of 2460 abstracts have been downloaded.\n",
      "\n",
      "this is the esearch command:\n",
      "http://eutils.ncbi.nlm.nih.gov/entrez/eutils/esearch.fcgi?db=pubmed&term=cancer+treatment&usehistory=y&rettype=json&mindate=2000&maxdate=2000\n",
      "\n",
      "a total of 2460 abstracts have been downloaded.\n",
      "\n",
      "this is the esearch command:\n",
      "http://eutils.ncbi.nlm.nih.gov/entrez/eutils/esearch.fcgi?db=pubmed&term=cancer+treatment&usehistory=y&rettype=json&mindate=2005&maxdate=2005\n",
      "\n",
      "a total of 2460 abstracts have been downloaded.\n",
      "\n",
      "this is the esearch command:\n",
      "http://eutils.ncbi.nlm.nih.gov/entrez/eutils/esearch.fcgi?db=pubmed&term=cancer+treatment&usehistory=y&rettype=json&mindate=2010&maxdate=2010\n",
      "\n",
      "a total of 2460 abstracts have been downloaded.\n",
      "\n",
      "this is the esearch command:\n",
      "http://eutils.ncbi.nlm.nih.gov/entrez/eutils/esearch.fcgi?db=pubmed&term=cancer+treatment&usehistory=y&rettype=json&mindate=2015&maxdate=2015\n",
      "\n",
      "a total of 2460 abstracts have been downloaded.\n",
      "\n",
      "this is the esearch command:\n",
      "http://eutils.ncbi.nlm.nih.gov/entrez/eutils/esearch.fcgi?db=pubmed&term=cancer+treatment&usehistory=y&rettype=json&mindate=2020&maxdate=2020\n",
      "\n",
      "a total of 2460 abstracts have been downloaded.\n",
      "\n",
      "this is the esearch command:\n",
      "http://eutils.ncbi.nlm.nih.gov/entrez/eutils/esearch.fcgi?db=pubmed&term=cancer+treatment&usehistory=y&rettype=json&mindate=2023&maxdate=2023\n",
      "\n",
      "a total of 2460 abstracts have been downloaded.\n",
      "\n"
     ]
    }
   ],
   "source": [
    "query = \"cancer+treatment\"\n",
    "\n",
    "# common settings between esearch and efetch\n",
    "base_url = 'http://eutils.ncbi.nlm.nih.gov/entrez/eutils/'\n",
    "db = 'db=pubmed'\n",
    "\n",
    "# esearch settings\n",
    "search_eutil = 'esearch.fcgi?'\n",
    "search_term = '&term=' + query\n",
    "search_usehistory = '&usehistory=y'\n",
    "search_rettype = '&rettype=json'\n",
    "total_abstract_count = 2000\n",
    "fetch_eutil = 'efetch.fcgi?'\n",
    "retmax = 500\n",
    "retstart = 0\n",
    "fetch_retmode = \"&retmode=text\"\n",
    "fetch_rettype = \"&rettype=abstract\"\n",
    "\n",
    "for i in years:\n",
    "    search_mindate, search_maxdate = '&mindate='+i,'&maxdate='+i\n",
    "    search_url = base_url+search_eutil+db+search_term+search_usehistory+search_rettype+search_mindate+search_maxdate\n",
    "    print(\"this is the esearch command:\\n\" + search_url + \"\\n\")\n",
    "    f = urllib.request.urlopen (search_url)\n",
    "    search_data = f.read().decode('utf-8')\n",
    "    fetch_webenv = \"&WebEnv=\" + re.findall (\"<WebEnv>(\\S+)<\\/WebEnv>\", search_data)[0]\n",
    "    fetch_querykey = \"&query_key=\" + re.findall(\"<QueryKey>(\\d+?)</QueryKey>\",search_data)[0]\n",
    "    run = True\n",
    "    all_abstracts = list()\n",
    "    loop_counter = 1\n",
    "    while run:\n",
    "        loop_counter += 1\n",
    "        fetch_retstart = \"&retstart=\" + str(retstart)\n",
    "        fetch_retmax = \"&retmax=\" + str(retmax)\n",
    "        # create the efetch url\n",
    "        fetch_url = base_url+fetch_eutil+db+fetch_querykey+fetch_webenv+fetch_retstart+fetch_retmax+fetch_retmode+fetch_rettype\n",
    "        # open the efetch url\n",
    "        f = urllib.request.urlopen (fetch_url)\n",
    "        fetch_data = f.read().decode('utf-8')\n",
    "        # split the data into individual abstracts\n",
    "        abstracts = fetch_data.split(\"\\n\\n\\n\")\n",
    "        # append to the list all_abstracts\n",
    "        all_abstracts = all_abstracts+abstracts\n",
    "        # update retstart to download the next chunk of abstracts\n",
    "        retstart = retstart + retmax\n",
    "        if retstart > total_abstract_count:\n",
    "            print(\"a total of \" + str(len(all_abstracts)) + \" abstracts have been downloaded.\\n\")\n",
    "            run = False\n",
    "    with open(\"abstracts{}.csv\".format(i), \"wt\", encoding = 'utf-8') as abstracts_file:\n",
    "        # csv writer for full abstracts\n",
    "        abstract_writer = csv.writer(abstracts_file)\n",
    "        abstract_writer.writerow(['Journal', 'Title', 'Authors', 'Author_Information', 'Abstract', 'DOI', 'Misc'])\n",
    "        #For each abstract, split into categories and write it to the csv file\n",
    "        for abstract in all_abstracts:\n",
    "            #To obtain categories, split every double newline.\n",
    "            split_abstract = abstract.split(\"\\n\\n\")\n",
    "            if 5 <= len(split_abstract) <= 7:\n",
    "                abstract_writer.writerow(split_abstract)\n",
    "                retstart = 0"
   ]
  },
  {
   "cell_type": "markdown",
   "id": "30608d65-a85b-4042-9b38-a13db2ba1f28",
   "metadata": {},
   "source": [
    "# Cleaning Up"
   ]
  },
  {
   "cell_type": "code",
   "execution_count": 181,
   "id": "af9a55e7-fa3a-4560-b33d-c8b1a7270bca",
   "metadata": {},
   "outputs": [
    {
     "data": {
      "text/html": [
       "<div>\n",
       "<style scoped>\n",
       "    .dataframe tbody tr th:only-of-type {\n",
       "        vertical-align: middle;\n",
       "    }\n",
       "\n",
       "    .dataframe tbody tr th {\n",
       "        vertical-align: top;\n",
       "    }\n",
       "\n",
       "    .dataframe thead th {\n",
       "        text-align: right;\n",
       "    }\n",
       "</style>\n",
       "<table border=\"1\" class=\"dataframe\">\n",
       "  <thead>\n",
       "    <tr style=\"text-align: right;\">\n",
       "      <th></th>\n",
       "      <th>Title</th>\n",
       "      <th>Authors</th>\n",
       "      <th>Abstract</th>\n",
       "      <th>Year</th>\n",
       "    </tr>\n",
       "  </thead>\n",
       "  <tbody>\n",
       "    <tr>\n",
       "      <th>0</th>\n",
       "      <td>Stimulation of the sphingomyelin pathway induc...</td>\n",
       "      <td>Fiebich BL(1), Lieb K, Berger M, Bauer J.</td>\n",
       "      <td>Interleukin-6 (IL-6) has previously been shown...</td>\n",
       "      <td>1995</td>\n",
       "    </tr>\n",
       "    <tr>\n",
       "      <th>1</th>\n",
       "      <td>Non-parametric estimation of the post-lead-tim...</td>\n",
       "      <td>Xu JL(1), Prorok PC.</td>\n",
       "      <td>The goal of screening programmes for cancer is...</td>\n",
       "      <td>1995</td>\n",
       "    </tr>\n",
       "    <tr>\n",
       "      <th>2</th>\n",
       "      <td>Non-parametric methods for analysing recurrent...</td>\n",
       "      <td>Lancar R(1), Kramar A, Haie-Meder C.</td>\n",
       "      <td>Non-parametric methods have recently been prop...</td>\n",
       "      <td>1995</td>\n",
       "    </tr>\n",
       "    <tr>\n",
       "      <th>3</th>\n",
       "      <td>Effect of serum albumin on estrogen metabolism...</td>\n",
       "      <td>Bradlow HL(1), Arcuri F, Blasi L, Castagnetta L.</td>\n",
       "      <td>The observation that charcoal-treated fetal bo...</td>\n",
       "      <td>1995</td>\n",
       "    </tr>\n",
       "    <tr>\n",
       "      <th>4</th>\n",
       "      <td>Effect of a new de-N-acetyl-lysoglycosphingoli...</td>\n",
       "      <td>Tubaro E(1), Borelli GP, Belogi L, Cavallo G, ...</td>\n",
       "      <td>A new de-N-acetylated glycosphingolipid termed...</td>\n",
       "      <td>1995</td>\n",
       "    </tr>\n",
       "    <tr>\n",
       "      <th>...</th>\n",
       "      <td>...</td>\n",
       "      <td>...</td>\n",
       "      <td>...</td>\n",
       "      <td>...</td>\n",
       "    </tr>\n",
       "    <tr>\n",
       "      <th>3021</th>\n",
       "      <td>Inhibition of metabolism of 4-(methylnitrosami...</td>\n",
       "      <td>Morse MA(1), Kresty LA, Toburen AL.</td>\n",
       "      <td>As part of a routine screening assay, benzalde...</td>\n",
       "      <td>1995</td>\n",
       "    </tr>\n",
       "    <tr>\n",
       "      <th>3022</th>\n",
       "      <td>Overexpressions of c-fos/jun mRNA and their on...</td>\n",
       "      <td>Morishita S(1), Niwa K, Ichigo S, Hori M, Mura...</td>\n",
       "      <td>To further understand hormonal carcinogenesis ...</td>\n",
       "      <td>1995</td>\n",
       "    </tr>\n",
       "    <tr>\n",
       "      <th>3023</th>\n",
       "      <td>Cytokine induction by 41.8 degrees C whole bod...</td>\n",
       "      <td>Robins HI(1), Kutz M, Wiedemann GJ, Katschinsk...</td>\n",
       "      <td>The potential for 41.8 degrees C whole body hy...</td>\n",
       "      <td>1995</td>\n",
       "    </tr>\n",
       "    <tr>\n",
       "      <th>3024</th>\n",
       "      <td>Introduction of murine Il-4 gene into B16(F10)...</td>\n",
       "      <td>Missol E(1), Sochanik A, Szala S.</td>\n",
       "      <td>Il-4 is a highly pleiotropic cytokine which in...</td>\n",
       "      <td>1995</td>\n",
       "    </tr>\n",
       "    <tr>\n",
       "      <th>3025</th>\n",
       "      <td>Cytotoxicity, cellular accumulation and DNA bi...</td>\n",
       "      <td>Pendyala L(1), Kidani Y, Perez R, Wilkes J, Be...</td>\n",
       "      <td>Oxaliplatin (trans-l-1,2-diaminocyclohexane ox...</td>\n",
       "      <td>1995</td>\n",
       "    </tr>\n",
       "  </tbody>\n",
       "</table>\n",
       "<p>3026 rows × 4 columns</p>\n",
       "</div>"
      ],
      "text/plain": [
       "                                                  Title  \\\n",
       "0     Stimulation of the sphingomyelin pathway induc...   \n",
       "1     Non-parametric estimation of the post-lead-tim...   \n",
       "2     Non-parametric methods for analysing recurrent...   \n",
       "3     Effect of serum albumin on estrogen metabolism...   \n",
       "4     Effect of a new de-N-acetyl-lysoglycosphingoli...   \n",
       "...                                                 ...   \n",
       "3021  Inhibition of metabolism of 4-(methylnitrosami...   \n",
       "3022  Overexpressions of c-fos/jun mRNA and their on...   \n",
       "3023  Cytokine induction by 41.8 degrees C whole bod...   \n",
       "3024  Introduction of murine Il-4 gene into B16(F10)...   \n",
       "3025  Cytotoxicity, cellular accumulation and DNA bi...   \n",
       "\n",
       "                                                Authors  \\\n",
       "0             Fiebich BL(1), Lieb K, Berger M, Bauer J.   \n",
       "1                                  Xu JL(1), Prorok PC.   \n",
       "2                  Lancar R(1), Kramar A, Haie-Meder C.   \n",
       "3      Bradlow HL(1), Arcuri F, Blasi L, Castagnetta L.   \n",
       "4     Tubaro E(1), Borelli GP, Belogi L, Cavallo G, ...   \n",
       "...                                                 ...   \n",
       "3021                Morse MA(1), Kresty LA, Toburen AL.   \n",
       "3022  Morishita S(1), Niwa K, Ichigo S, Hori M, Mura...   \n",
       "3023  Robins HI(1), Kutz M, Wiedemann GJ, Katschinsk...   \n",
       "3024                  Missol E(1), Sochanik A, Szala S.   \n",
       "3025  Pendyala L(1), Kidani Y, Perez R, Wilkes J, Be...   \n",
       "\n",
       "                                               Abstract  Year  \n",
       "0     Interleukin-6 (IL-6) has previously been shown...  1995  \n",
       "1     The goal of screening programmes for cancer is...  1995  \n",
       "2     Non-parametric methods have recently been prop...  1995  \n",
       "3     The observation that charcoal-treated fetal bo...  1995  \n",
       "4     A new de-N-acetylated glycosphingolipid termed...  1995  \n",
       "...                                                 ...   ...  \n",
       "3021  As part of a routine screening assay, benzalde...  1995  \n",
       "3022  To further understand hormonal carcinogenesis ...  1995  \n",
       "3023  The potential for 41.8 degrees C whole body hy...  1995  \n",
       "3024  Il-4 is a highly pleiotropic cytokine which in...  1995  \n",
       "3025  Oxaliplatin (trans-l-1,2-diaminocyclohexane ox...  1995  \n",
       "\n",
       "[3026 rows x 4 columns]"
      ]
     },
     "execution_count": 181,
     "metadata": {},
     "output_type": "execute_result"
    }
   ],
   "source": [
    "# Now that we have all the abstracts, we can clean them up and condense them into one big df\n",
    "temp = pd.DataFrame()\n",
    "df = pd.read_csv('abstracts1995.csv')\n",
    "\n",
    "# Only care about abstract, title, and year, drop everything else \n",
    "df = df[[\"Title\", \"Authors\", \"Abstract\"]]\n",
    "df[\"Year\"] = \"1995\"\n",
    "df[\"Abstract\"] = df[\"Abstract\"].str.split('\\r\\n')\n",
    "df[\"Len\"] = df[\"Abstract\"].apply(len)\n",
    "df = df[df[\"Len\"] > 3]\n",
    "df[\"Abstract\"] = df[\"Abstract\"].apply(lambda x: ''.join(x))\n",
    "# Some abstracts are misplaced, we can just drop the articles where there are no abstracts. \n",
    "df = df[[\"Title\", \"Authors\", \"Abstract\", \"Year\"]].reset_index(drop = True)\n",
    "df1 = df.copy()\n",
    "pd.concat([temp, df, df1],ignore_index = True)"
   ]
  },
  {
   "cell_type": "code",
   "execution_count": 182,
   "id": "e2104cb9-269c-4677-b528-3d9c7dc78c3b",
   "metadata": {},
   "outputs": [],
   "source": [
    "df = pd.DataFrame()"
   ]
  },
  {
   "cell_type": "code",
   "execution_count": 183,
   "id": "3c82dfdc-acb8-4335-affe-00d9a952a177",
   "metadata": {},
   "outputs": [],
   "source": [
    "# Ok do it for every single abstract\n",
    "for i in years: \n",
    "    df1 = pd.read_csv('abstracts{}.csv'.format(i))\n",
    "\n",
    "    # Only care about abstract, title, and year, drop everything else \n",
    "    df1 = df1[[\"Title\", \"Authors\", \"Abstract\"]]\n",
    "    df1[\"Year\"] = i\n",
    "    df1[\"Abstract\"] = df1[\"Abstract\"].str.split('\\r\\n')\n",
    "    df1[\"Len\"] = df1[\"Abstract\"].apply(len)\n",
    "    df1 = df1[df1[\"Len\"] > 3]\n",
    "    df1[\"Abstract\"] = df1[\"Abstract\"].apply(lambda x: ''.join(x))\n",
    "    # Some abstracts are misplaced, we can just drop the articles where there are no abstracts. \n",
    "    df1 = df1[[\"Title\", \"Authors\", \"Abstract\", \"Year\"]].reset_index(drop = True)\n",
    "    df = pd.concat([df,df1],ignore_index = True)\n",
    "\n"
   ]
  },
  {
   "cell_type": "code",
   "execution_count": 184,
   "id": "67cf6e11-0625-44fa-83fd-b9f2cf424c83",
   "metadata": {},
   "outputs": [
    {
     "data": {
      "text/plain": [
       "2015    1916\n",
       "2010    1769\n",
       "2000    1716\n",
       "2005    1710\n",
       "1995    1513\n",
       "2020    1331\n",
       "2023    1308\n",
       "Name: Year, dtype: int64"
      ]
     },
     "execution_count": 184,
     "metadata": {},
     "output_type": "execute_result"
    }
   ],
   "source": [
    "df[\"Year\"].value_counts() ## Abstracts per year"
   ]
  },
  {
   "cell_type": "code",
   "execution_count": 201,
   "id": "ee00811e-d05c-43dd-a0c1-667e4599d059",
   "metadata": {},
   "outputs": [],
   "source": [
    "df[\"Comment\"] = df[\"Abstract\"].str.find(\"Comment\")\n",
    "df = df[~df[\"Comment\"] != -1]\n",
    "df = df[[\"Title\", \"Authors\", \"Abstract\", \"Year\"]]\n",
    "df[\"Abstract Length\"] = df[\"Abstract\"].apply(len)\n",
    "df.to_csv(\"condensedabstracts.csv\")\n"
   ]
  }
 ],
 "metadata": {
  "kernelspec": {
   "display_name": "Python 3 (ipykernel)",
   "language": "python",
   "name": "python3"
  },
  "language_info": {
   "codemirror_mode": {
    "name": "ipython",
    "version": 3
   },
   "file_extension": ".py",
   "mimetype": "text/x-python",
   "name": "python",
   "nbconvert_exporter": "python",
   "pygments_lexer": "ipython3",
   "version": "3.9.7"
  }
 },
 "nbformat": 4,
 "nbformat_minor": 5
}
